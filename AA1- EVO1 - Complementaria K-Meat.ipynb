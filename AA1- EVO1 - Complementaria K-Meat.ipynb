{
 "cells": [
  {
   "cell_type": "code",
   "execution_count": null,
   "id": "57bdd892",
   "metadata": {},
   "outputs": [],
   "source": [
    "import pandas as pd\n",
    "# librería para aprendizaje automático | Submódulo algoritmos de agrupamiento (clustering).\n",
    "from sklearn.cluster import KMeans\n",
    "#  preparar o escalar datos antes de entrenar modelos | convierte los datos a escala estándar\n",
    "from sklearn.preprocessing import StandardScaler\n",
    "import matplotlib.pyplot as plt"
   ]
  },
  {
   "cell_type": "code",
   "execution_count": 7,
   "id": "8e04a622",
   "metadata": {},
   "outputs": [],
   "source": [
    "#  leer el archivo de datos, convertirlo en un DataFrame de Pandas y asignar nombres a las columnas\n",
    "df = pd.read_csv('iris/iris.data', names=['sepal_length', 'sepal_width', 'petal_length', 'petal_width', 'species'])"
   ]
  },
  {
   "cell_type": "code",
   "execution_count": 8,
   "id": "770d9e6a",
   "metadata": {},
   "outputs": [
    {
     "data": {
      "text/html": [
       "<div>\n",
       "<style scoped>\n",
       "    .dataframe tbody tr th:only-of-type {\n",
       "        vertical-align: middle;\n",
       "    }\n",
       "\n",
       "    .dataframe tbody tr th {\n",
       "        vertical-align: top;\n",
       "    }\n",
       "\n",
       "    .dataframe thead th {\n",
       "        text-align: right;\n",
       "    }\n",
       "</style>\n",
       "<table border=\"1\" class=\"dataframe\">\n",
       "  <thead>\n",
       "    <tr style=\"text-align: right;\">\n",
       "      <th></th>\n",
       "      <th>sepal_length</th>\n",
       "      <th>sepal_width</th>\n",
       "      <th>petal_length</th>\n",
       "      <th>petal_width</th>\n",
       "      <th>species</th>\n",
       "    </tr>\n",
       "  </thead>\n",
       "  <tbody>\n",
       "    <tr>\n",
       "      <th>0</th>\n",
       "      <td>5.1</td>\n",
       "      <td>3.5</td>\n",
       "      <td>1.4</td>\n",
       "      <td>0.2</td>\n",
       "      <td>Iris-setosa</td>\n",
       "    </tr>\n",
       "    <tr>\n",
       "      <th>1</th>\n",
       "      <td>4.9</td>\n",
       "      <td>3.0</td>\n",
       "      <td>1.4</td>\n",
       "      <td>0.2</td>\n",
       "      <td>Iris-setosa</td>\n",
       "    </tr>\n",
       "    <tr>\n",
       "      <th>2</th>\n",
       "      <td>4.7</td>\n",
       "      <td>3.2</td>\n",
       "      <td>1.3</td>\n",
       "      <td>0.2</td>\n",
       "      <td>Iris-setosa</td>\n",
       "    </tr>\n",
       "    <tr>\n",
       "      <th>3</th>\n",
       "      <td>4.6</td>\n",
       "      <td>3.1</td>\n",
       "      <td>1.5</td>\n",
       "      <td>0.2</td>\n",
       "      <td>Iris-setosa</td>\n",
       "    </tr>\n",
       "    <tr>\n",
       "      <th>4</th>\n",
       "      <td>5.0</td>\n",
       "      <td>3.6</td>\n",
       "      <td>1.4</td>\n",
       "      <td>0.2</td>\n",
       "      <td>Iris-setosa</td>\n",
       "    </tr>\n",
       "  </tbody>\n",
       "</table>\n",
       "</div>"
      ],
      "text/plain": [
       "   sepal_length  sepal_width  petal_length  petal_width      species\n",
       "0           5.1          3.5           1.4          0.2  Iris-setosa\n",
       "1           4.9          3.0           1.4          0.2  Iris-setosa\n",
       "2           4.7          3.2           1.3          0.2  Iris-setosa\n",
       "3           4.6          3.1           1.5          0.2  Iris-setosa\n",
       "4           5.0          3.6           1.4          0.2  Iris-setosa"
      ]
     },
     "execution_count": 8,
     "metadata": {},
     "output_type": "execute_result"
    }
   ],
   "source": [
    "df.head()"
   ]
  },
  {
   "cell_type": "code",
   "execution_count": 9,
   "id": "f291a08e",
   "metadata": {},
   "outputs": [],
   "source": [
    "# Defino la lista de nombres de columnas\n",
    "# y convierto las columnas de características a tipo float las cuatro variables de medición (todos los elementos menos el último)\n",
    "col_names = [\"sepal_length\", \"sepal_width\", \"petal_length\", \"petal_width\", \"species\"]\n",
    "df[col_names[:-1]] = df[col_names[:-1]].astype(float) "
   ]
  },
  {
   "cell_type": "code",
   "execution_count": 11,
   "id": "419f063a",
   "metadata": {},
   "outputs": [],
   "source": [
    "# Estandarizar las características\n",
    "Standardscaler = StandardScaler()"
   ]
  },
  {
   "cell_type": "code",
   "execution_count": 12,
   "id": "faa6e277",
   "metadata": {},
   "outputs": [],
   "source": [
    "#Selecciona todas las filas y columnas menos la última (que es 'species')\n",
    "#Transforma los datos para que tengan media 0 y desviación estándar 1 para cada característica (columna)\n",
    "x_scaled = Standardscaler.fit_transform(df.iloc[:, :-1])"
   ]
  },
  {
   "cell_type": "code",
   "execution_count": 13,
   "id": "ef6452bd",
   "metadata": {},
   "outputs": [],
   "source": [
    "Kmeans = KMeans(n_clusters=3, random_state=42 ) # Definir el número de clusters y generador de números aleatorios. \n",
    "# Asigna a cada fila del DataFrame el clúster al que pertenece | entrenando y clasificando al mismo tiempo\n",
    "df['cluster'] = Kmeans.fit_predict(x_scaled)"
   ]
  },
  {
   "cell_type": "code",
   "execution_count": 14,
   "id": "9905ab16",
   "metadata": {},
   "outputs": [
    {
     "name": "stdout",
     "output_type": "stream",
     "text": [
      "   sepal_length  sepal_width  petal_length  petal_width      species  cluster\n",
      "0           5.1          3.5           1.4          0.2  Iris-setosa        1\n",
      "1           4.9          3.0           1.4          0.2  Iris-setosa        2\n",
      "2           4.7          3.2           1.3          0.2  Iris-setosa        2\n",
      "3           4.6          3.1           1.5          0.2  Iris-setosa        2\n",
      "4           5.0          3.6           1.4          0.2  Iris-setosa        1\n"
     ]
    }
   ],
   "source": [
    "print(df.head())\n"
   ]
  },
  {
   "cell_type": "code",
   "execution_count": 15,
   "id": "107d1a3f",
   "metadata": {},
   "outputs": [
    {
     "name": "stdout",
     "output_type": "stream",
     "text": [
      "[[ 0.57100359 -0.36600236  0.69108416  0.66322635]\n",
      " [-0.80601877  1.33577362 -1.28618375 -1.21026347]\n",
      " [-1.31926109 -0.34584225 -1.14482725 -1.1336954 ]]\n"
     ]
    }
   ],
   "source": [
    "#Las columnas representan [ sepal_length, sepal_width, petal_length, petal_width ]\n",
    "# Las filas representan los clusters asignados por KMeans\n",
    "print(Kmeans.cluster_centers_)"
   ]
  },
  {
   "cell_type": "code",
   "execution_count": null,
   "id": "d8957416",
   "metadata": {},
   "outputs": [],
   "source": [
    "plt.scatter(df[\"sepal_length\"], df[\"sepal_width\"], c=df[\"cluster\"])"
   ]
  },
  {
   "cell_type": "code",
   "execution_count": null,
   "id": "901bc3dd",
   "metadata": {},
   "outputs": [],
   "source": []
  }
 ],
 "metadata": {
  "kernelspec": {
   "display_name": "Python 3",
   "language": "python",
   "name": "python3"
  },
  "language_info": {
   "codemirror_mode": {
    "name": "ipython",
    "version": 3
   },
   "file_extension": ".py",
   "mimetype": "text/x-python",
   "name": "python",
   "nbconvert_exporter": "python",
   "pygments_lexer": "ipython3",
   "version": "3.11.9"
  }
 },
 "nbformat": 4,
 "nbformat_minor": 5
}
